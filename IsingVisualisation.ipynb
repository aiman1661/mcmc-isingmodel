{
 "cells": [
  {
   "cell_type": "markdown",
   "metadata": {},
   "source": [
    "## 2D Ising Model with Visualisation"
   ]
  },
  {
   "cell_type": "code",
   "execution_count": 9,
   "metadata": {},
   "outputs": [
    {
     "ename": "",
     "evalue": "",
     "output_type": "error",
     "traceback": [
      "\u001b[1;31mThe Kernel crashed while executing code in the the current cell or a previous cell. Please review the code in the cell(s) to identify a possible cause of the failure. Click <a href='https://aka.ms/vscodeJupyterKernelCrash'>here</a> for more info. View Jupyter <a href='command:jupyter.viewOutput'>log</a> for further details."
     ]
    }
   ],
   "source": [
    "import numpy as np\n",
    "from numpy import random\n",
    "import IsingModel as IM\n",
    "import matplotlib.pyplot as plt\n",
    "import matplotlib\n",
    "from utils import validate_input\n",
    "matplotlib.use('TKAgg')"
   ]
  },
  {
   "cell_type": "code",
   "execution_count": 7,
   "metadata": {},
   "outputs": [
    {
     "name": "stdout",
     "output_type": "stream",
     "text": [
      "Value 'G' is valid.\n"
     ]
    }
   ],
   "source": [
    "# system parameters, as fixed by user\n",
    "n = 50          # number of sites given by n x n (square)\n",
    "T = 1           # temperature\n",
    "nstep = 10000   # the 'time' for this dynamical evolution\n",
    "dynamics = 'G'  # G : Glauber , K : Kawasaki\n",
    "\n",
    "# validating the dynamics input\n",
    "try:\n",
    "    print(validate_input(dynamics))\n",
    "except ValueError as e:\n",
    "    print(e)\n",
    "\n",
    "# initialise lattice sites\n",
    "rng = random.default_rng()\n",
    "lattice = random.choice(np.array([-1,1]), (n,n))\n",
    "\n",
    "# all spin down initial lattice (ground state for Glauber)\n",
    "#lattice = -np.ones((n,n))\n",
    "\n",
    "# half up, half down configuration (ground state for Kawasaki)\n",
    "#lattice = np.concatenate((np.ones((int(n/2),n)), -np.ones((int(n/2),n))), axis=0)\n",
    "\n",
    "system = IM.IsingLattice(lattice)             # initial system\n",
    "energy_lattice = system.return_energy_total() # initial lattice energy"
   ]
  },
  {
   "cell_type": "code",
   "execution_count": 8,
   "metadata": {},
   "outputs": [
    {
     "name": "stdout",
     "output_type": "stream",
     "text": [
      "Simulate with Glauber dynamics.\n",
      "Sweep, Energy, Magnetisation\n",
      "0 -1924 -10\n",
      "10 -4144 -212\n",
      "20 -4296 -58\n",
      "30 -4384 94\n",
      "40 -4452 82\n",
      "50 -4484 210\n",
      "60 -4516 242\n",
      "70 -4524 198\n",
      "80 -4556 268\n",
      "90 -4576 224\n",
      "100 -4580 230\n",
      "110 -4588 348\n",
      "120 -4584 394\n",
      "130 -4604 468\n",
      "140 -4608 506\n",
      "150 -4628 602\n",
      "160 -4632 652\n",
      "170 -4656 792\n",
      "180 -4660 866\n",
      "190 -4676 852\n",
      "200 -4676 850\n",
      "210 -4700 988\n"
     ]
    },
    {
     "ename": "KeyboardInterrupt",
     "evalue": "",
     "output_type": "error",
     "traceback": [
      "\u001b[0;31m---------------------------------------------------------------------------\u001b[0m",
      "\u001b[0;31mKeyboardInterrupt\u001b[0m                         Traceback (most recent call last)",
      "\u001b[1;32m/Users/aimanmohdyuzmanizeil/Desktop/Year 4/Semester 2/Modelling and Visualisation in Physics/Monte Carlo and Ising Model/Submission/IsingVisualisation.ipynb Cell 4\u001b[0m line \u001b[0;36m3\n\u001b[1;32m     <a href='vscode-notebook-cell:/Users/aimanmohdyuzmanizeil/Desktop/Year%204/Semester%202/Modelling%20and%20Visualisation%20in%20Physics/Monte%20Carlo%20and%20Ising%20Model/Submission/IsingVisualisation.ipynb#W3sZmlsZQ%3D%3D?line=33'>34</a>\u001b[0m             im\u001b[39m=\u001b[39mplt\u001b[39m.\u001b[39mimshow(system\u001b[39m.\u001b[39mlattice, animated\u001b[39m=\u001b[39m\u001b[39mTrue\u001b[39;00m, vmin\u001b[39m=\u001b[39m\u001b[39m-\u001b[39m\u001b[39m1\u001b[39m, vmax\u001b[39m=\u001b[39m\u001b[39m1\u001b[39m)\n\u001b[1;32m     <a href='vscode-notebook-cell:/Users/aimanmohdyuzmanizeil/Desktop/Year%204/Semester%202/Modelling%20and%20Visualisation%20in%20Physics/Monte%20Carlo%20and%20Ising%20Model/Submission/IsingVisualisation.ipynb#W3sZmlsZQ%3D%3D?line=34'>35</a>\u001b[0m             plt\u001b[39m.\u001b[39mdraw()\n\u001b[0;32m---> <a href='vscode-notebook-cell:/Users/aimanmohdyuzmanizeil/Desktop/Year%204/Semester%202/Modelling%20and%20Visualisation%20in%20Physics/Monte%20Carlo%20and%20Ising%20Model/Submission/IsingVisualisation.ipynb#W3sZmlsZQ%3D%3D?line=35'>36</a>\u001b[0m             plt\u001b[39m.\u001b[39;49mpause(\u001b[39m0.0001\u001b[39;49m)\n\u001b[1;32m     <a href='vscode-notebook-cell:/Users/aimanmohdyuzmanizeil/Desktop/Year%204/Semester%202/Modelling%20and%20Visualisation%20in%20Physics/Monte%20Carlo%20and%20Ising%20Model/Submission/IsingVisualisation.ipynb#W3sZmlsZQ%3D%3D?line=37'>38</a>\u001b[0m \u001b[39mif\u001b[39;00m dynamics \u001b[39m==\u001b[39m \u001b[39m'\u001b[39m\u001b[39mK\u001b[39m\u001b[39m'\u001b[39m:\n\u001b[1;32m     <a href='vscode-notebook-cell:/Users/aimanmohdyuzmanizeil/Desktop/Year%204/Semester%202/Modelling%20and%20Visualisation%20in%20Physics/Monte%20Carlo%20and%20Ising%20Model/Submission/IsingVisualisation.ipynb#W3sZmlsZQ%3D%3D?line=38'>39</a>\u001b[0m     \u001b[39mprint\u001b[39m(\u001b[39m'\u001b[39m\u001b[39mSimulate with Kawasaki dynamics.\u001b[39m\u001b[39m'\u001b[39m)\n",
      "File \u001b[0;32m~/miniconda3/envs/personal/lib/python3.12/site-packages/matplotlib/pyplot.py:758\u001b[0m, in \u001b[0;36mpause\u001b[0;34m(interval)\u001b[0m\n\u001b[1;32m    756\u001b[0m         canvas\u001b[39m.\u001b[39mdraw_idle()\n\u001b[1;32m    757\u001b[0m     show(block\u001b[39m=\u001b[39m\u001b[39mFalse\u001b[39;00m)\n\u001b[0;32m--> 758\u001b[0m     canvas\u001b[39m.\u001b[39;49mstart_event_loop(interval)\n\u001b[1;32m    759\u001b[0m \u001b[39melse\u001b[39;00m:\n\u001b[1;32m    760\u001b[0m     time\u001b[39m.\u001b[39msleep(interval)\n",
      "File \u001b[0;32m~/miniconda3/envs/personal/lib/python3.12/site-packages/matplotlib/backends/_backend_tk.py:447\u001b[0m, in \u001b[0;36mFigureCanvasTk.start_event_loop\u001b[0;34m(self, timeout)\u001b[0m\n\u001b[1;32m    444\u001b[0m     \u001b[39melse\u001b[39;00m:\n\u001b[1;32m    445\u001b[0m         \u001b[39mself\u001b[39m\u001b[39m.\u001b[39m_event_loop_id \u001b[39m=\u001b[39m \u001b[39mself\u001b[39m\u001b[39m.\u001b[39m_tkcanvas\u001b[39m.\u001b[39mafter_idle(\n\u001b[1;32m    446\u001b[0m             \u001b[39mself\u001b[39m\u001b[39m.\u001b[39mstop_event_loop)\n\u001b[0;32m--> 447\u001b[0m \u001b[39mself\u001b[39;49m\u001b[39m.\u001b[39;49m_tkcanvas\u001b[39m.\u001b[39;49mmainloop()\n",
      "File \u001b[0;32m~/miniconda3/envs/personal/lib/python3.12/tkinter/__init__.py:1505\u001b[0m, in \u001b[0;36mMisc.mainloop\u001b[0;34m(self, n)\u001b[0m\n\u001b[1;32m   1503\u001b[0m \u001b[39mdef\u001b[39;00m \u001b[39mmainloop\u001b[39m(\u001b[39mself\u001b[39m, n\u001b[39m=\u001b[39m\u001b[39m0\u001b[39m):\n\u001b[1;32m   1504\u001b[0m \u001b[39m    \u001b[39m\u001b[39m\"\"\"Call the mainloop of Tk.\"\"\"\u001b[39;00m\n\u001b[0;32m-> 1505\u001b[0m     \u001b[39mself\u001b[39;49m\u001b[39m.\u001b[39;49mtk\u001b[39m.\u001b[39;49mmainloop(n)\n",
      "\u001b[0;31mKeyboardInterrupt\u001b[0m: "
     ]
    }
   ],
   "source": [
    "energy_list = []\n",
    "magnetisation_list = []\n",
    "time_list = []\n",
    "\n",
    "fig = plt.figure()\n",
    "im  = plt.imshow(system.lattice, animated=True, vmin=-1, vmax=1)\n",
    "\n",
    "if dynamics == 'G':\n",
    "    print('Simulate with Glauber dynamics.')\n",
    "    print('Sweep, Energy, Magnetisation')\n",
    "    for sweep in range(nstep):\n",
    "        for _ in range(n**2):\n",
    "            glauber_site, delta_E = system.perform_glauber_step()\n",
    "            metro_bool, delta_E = system.perform_metropolis(delta_E, T)\n",
    "\n",
    "            i, j = glauber_site\n",
    "\n",
    "            if metro_bool == True:\n",
    "                lattice[i][j] = - lattice[i][j]\n",
    "                system = IM.IsingLattice(lattice)\n",
    "                energy_lattice += delta_E\n",
    "\n",
    "        #occasionally plot or update measurements\n",
    "        if (sweep%10) == 0:\n",
    "            # update measurements\n",
    "            print(f'{sweep} {energy_lattice} {system.return_magnetisation()}')\n",
    "            energy_list.append(energy_lattice)\n",
    "            magnetisation_list.append(system.return_magnetisation())\n",
    "            time_list.append(sweep)\n",
    "\n",
    "            # show animation\n",
    "            \n",
    "            plt.cla()\n",
    "            im=plt.imshow(system.lattice, animated=True, vmin=-1, vmax=1)\n",
    "            plt.draw()\n",
    "            plt.pause(0.0001)\n",
    "\n",
    "if dynamics == 'K':\n",
    "    print('Simulate with Kawasaki dynamics.')\n",
    "    print('Sweep, Energy, Magnetisation')\n",
    "    for sweep in range(nstep):\n",
    "        for _ in range(n**2): \n",
    "            kawasaki_site1, kawasaki_site2, delta_E = system.perform_kawasaki_step()\n",
    "            metro_bool, delta_E = system.perform_metropolis(delta_E, T)\n",
    "\n",
    "            i1, j1 = kawasaki_site1\n",
    "            i2, j2 = kawasaki_site2\n",
    "\n",
    "            if metro_bool == True:\n",
    "                lattice[i1][j1], lattice[i2][j2] = lattice[i2][j2], lattice[i1][j1]\n",
    "                system = IM.IsingLattice(lattice)\n",
    "                energy_lattice += delta_E\n",
    "\n",
    "        #occasionally plot or update measurements\n",
    "        if (sweep%10) == 0:\n",
    "            # update measurements\n",
    "            print(f'{sweep} {energy_lattice} {system.return_magnetisation()}')\n",
    "            energy_list.append(energy_lattice)\n",
    "            magnetisation_list.append(system.return_magnetisation())\n",
    "            time_list.append(sweep)\n",
    "\n",
    "            # show animation\n",
    "            \n",
    "            plt.cla()\n",
    "            im=plt.imshow(system.lattice, animated=True, vmin=-1, vmax=1)\n",
    "            plt.draw()\n",
    "            plt.pause(0.0001)\n",
    "            "
   ]
  },
  {
   "cell_type": "code",
   "execution_count": 4,
   "metadata": {},
   "outputs": [
    {
     "data": {
      "image/png": "[encoded data removed]",
      "text/plain": [
       "<Figure size 640x480 with 1 Axes>"
      ]
     },
     "metadata": {},
     "output_type": "display_data"
    }
   ],
   "source": [
    "%matplotlib inline\n",
    "plt.plot(time_list, energy_list, label='E')\n",
    "plt.title('Energy Fluctuation')\n",
    "plt.legend(loc='best')\n",
    "plt.show()"
   ]
  },
  {
   "cell_type": "code",
   "execution_count": null,
   "metadata": {},
   "outputs": [],
   "source": []
  }
 ],
 "metadata": {
  "kernelspec": {
   "display_name": "personal",
   "language": "python",
   "name": "python3"
  },
  "language_info": {
   "codemirror_mode": {
    "name": "ipython",
    "version": 3
   },
   "file_extension": ".py",
   "mimetype": "text/x-python",
   "name": "python",
   "nbconvert_exporter": "python",
   "pygments_lexer": "ipython3",
   "version": "3.12.8"
  }
 },
 "nbformat": 4,
 "nbformat_minor": 2
}
