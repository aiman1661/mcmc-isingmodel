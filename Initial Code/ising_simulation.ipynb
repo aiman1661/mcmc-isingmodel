{
 "cells": [
  {
   "cell_type": "markdown",
   "metadata": {},
   "source": [
    "Ising Model Simulation"
   ]
  },
  {
   "cell_type": "code",
   "execution_count": null,
   "metadata": {},
   "outputs": [],
   "source": [
    "import numpy as np\n",
    "import matplotlib.pyplot as plt\n",
    "import matplotlib\n",
    "\n",
    "import IsingModel as IM\n",
    "\n",
    "matplotlib.use('TKAgg')\n"
   ]
  },
  {
   "cell_type": "code",
   "execution_count": null,
   "metadata": {},
   "outputs": [],
   "source": [
    "# parameters\n",
    "n = 10 # number of sites given by n x n (square)\n",
    "T = 1 # temperature\n",
    "nstep = 10000 # the 'time' for this dynamical evolution\n",
    "\n",
    "# initialise lattice sites\n",
    "rng = np.random.default_rng()\n",
    "lattice = rng.choice([-1,1],(n,n)) # lattice in array form, for visualisation\n",
    "#lattice = rng.choice([1],(n,n)) # try all 'up' initial state\n",
    "\n",
    "system = IM.IsingLattice(lattice)\n",
    "energy_lattice = system.return_energy_total() # initial lattice energy\n",
    "\n",
    "print(system.lattice, energy_lattice)"
   ]
  },
  {
   "cell_type": "code",
   "execution_count": null,
   "metadata": {},
   "outputs": [],
   "source": [
    "# Glauber Markov Chain, based on matrix elements not x-y coordinates!\n",
    "energy_list = []\n",
    "magnetisation_list = []\n",
    "time_list = []\n",
    "print('energy')\n",
    "\n",
    "for i in range(nstep):\n",
    "    metro_bool, metro_lattice, delta_E = system.perform_metropolis_test(T) #ising.metropolis_test(n, lattice, T)\n",
    "\n",
    "    if metro_bool == True:\n",
    "        system = IM.IsingLattice(metro_lattice)\n",
    "        energy_lattice += delta_E\n",
    "\n",
    "    #occasionally plot or update measurements\n",
    "    if (i%10) == 0:\n",
    "    #       update measurements\n",
    "        print(f'{energy_lattice}')\n",
    "        energy_list.append(energy_lattice)\n",
    "        magnetisation_list.append(system.return_magnetisation())\n",
    "        time_list.append(i)\n",
    "    #       show animation\n",
    "        plt.cla()\n",
    "        im=plt.imshow(system.lattice, animated=True, vmin=-1, vmax=1)\n",
    "        plt.draw()\n",
    "        plt.pause(0.0001)\n",
    "        \n",
    "plt.close()"
   ]
  },
  {
   "cell_type": "code",
   "execution_count": null,
   "metadata": {},
   "outputs": [],
   "source": [
    "%matplotlib inline\n",
    "plt.plot(time_list, energy_list)\n",
    "plt.xlabel('time')\n",
    "plt.ylabel('energy')\n",
    "plt.show()"
   ]
  },
  {
   "cell_type": "code",
   "execution_count": null,
   "metadata": {},
   "outputs": [],
   "source": [
    "data = {\n",
    "    \"time\": np.array(time_list),\n",
    "    \"total energy\": np.array(energy_list),\n",
    "    \"magnetisation\": np.array(magnetisation_list)\n",
    "}\n",
    "np.save('energy_time', data)\n",
    "#np.save('energy_time', np.array([time_list, energy_list, magnetisation_list]))"
   ]
  },
  {
   "cell_type": "code",
   "execution_count": null,
   "metadata": {},
   "outputs": [],
   "source": [
    "data_array = np.load('energy_time.npy', allow_pickle=True)\n",
    "data_array"
   ]
  },
  {
   "cell_type": "code",
   "execution_count": null,
   "metadata": {},
   "outputs": [],
   "source": [
    "data_item = data_array.item()\n",
    "print(f'observables : {data_item.keys()}')\n",
    "print(f'total energy : {data_item['total energy']}')"
   ]
  }
 ],
 "metadata": {
  "kernelspec": {
   "display_name": "personal",
   "language": "python",
   "name": "python3"
  },
  "language_info": {
   "codemirror_mode": {
    "name": "ipython",
    "version": 3
   },
   "file_extension": ".py",
   "mimetype": "text/x-python",
   "name": "python",
   "nbconvert_exporter": "python",
   "pygments_lexer": "ipython3",
   "version": "3.12.4"
  }
 },
 "nbformat": 4,
 "nbformat_minor": 2
}
